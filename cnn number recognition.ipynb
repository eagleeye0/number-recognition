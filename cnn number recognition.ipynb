{
 "cells": [
  {
   "cell_type": "code",
   "execution_count": 1,
   "metadata": {},
   "outputs": [
    {
     "name": "stderr",
     "output_type": "stream",
     "text": [
      "Using TensorFlow backend.\n"
     ]
    }
   ],
   "source": [
    "import keras\n",
    "import tensorflow as tf\n",
    "from keras.layers import Dense, Dropout, Convolution2D, Flatten, MaxPool2D\n",
    "import numpy as np\n",
    "import matplotlib.pyplot as plt\n",
    "import pandas as pd\n",
    "from sklearn import metrics"
   ]
  },
  {
   "cell_type": "code",
   "execution_count": 2,
   "metadata": {},
   "outputs": [],
   "source": [
    "fashion_mnist = keras.datasets.mnist"
   ]
  },
  {
   "cell_type": "code",
   "execution_count": 3,
   "metadata": {},
   "outputs": [],
   "source": [
    "dataset = fashion_mnist.load_data()"
   ]
  },
  {
   "cell_type": "code",
   "execution_count": 4,
   "metadata": {},
   "outputs": [],
   "source": [
    "(x_train, y_train), (x_test, y_test) = dataset\n",
    "x_train, x_test = x_train/255, x_test/255\n",
    "x_train = x_train.reshape(len(x_train),28,28,1)\n",
    "x_test = x_test.reshape(len(x_test),28,28,1)\n",
    "y_train = np.array(pd.get_dummies(y_train))"
   ]
  },
  {
   "cell_type": "code",
   "execution_count": 5,
   "metadata": {},
   "outputs": [
    {
     "data": {
      "text/plain": [
       "<matplotlib.image.AxesImage at 0x1663a437668>"
      ]
     },
     "execution_count": 5,
     "metadata": {},
     "output_type": "execute_result"
    },
    {
     "data": {
      "image/png": "[encoded data removed]",
      "text/plain": [
       "<Figure size 432x288 with 1 Axes>"
      ]
     },
     "metadata": {
      "needs_background": "light"
     },
     "output_type": "display_data"
    }
   ],
   "source": [
    "plt.imshow(dataset[0][0][0], cmap='Greys_r')"
   ]
  },
  {
   "cell_type": "code",
   "execution_count": 6,
   "metadata": {},
   "outputs": [
    {
     "name": "stderr",
     "output_type": "stream",
     "text": [
      "C:\\Users\\AKSHAT\\Anaconda3\\lib\\site-packages\\ipykernel_launcher.py:2: UserWarning: Update your `Conv2D` call to the Keras 2 API: `Conv2D(8, (15, 15), activation=\"relu\", input_shape=(28, 28, 1...)`\n",
      "  \n",
      "WARNING: Logging before flag parsing goes to stderr.\n",
      "W0529 20:54:16.184683 14348 deprecation_wrapper.py:119] From C:\\Users\\AKSHAT\\Anaconda3\\lib\\site-packages\\keras\\backend\\tensorflow_backend.py:4070: The name tf.nn.max_pool is deprecated. Please use tf.nn.max_pool2d instead.\n",
      "\n",
      "C:\\Users\\AKSHAT\\Anaconda3\\lib\\site-packages\\ipykernel_launcher.py:4: UserWarning: Update your `Conv2D` call to the Keras 2 API: `Conv2D(8, (5, 5), activation=\"relu\")`\n",
      "  after removing the cwd from sys.path.\n"
     ]
    }
   ],
   "source": [
    "model = keras.Sequential()\n",
    "model.add(Convolution2D(8, 15, 15, activation='relu', input_shape=(28,28,1)))\n",
    "model.add(MaxPool2D(2, 2))\n",
    "model.add(Convolution2D(8, 5, 5, activation='relu'))\n",
    "model.add(MaxPool2D(2, 2))\n",
    "model.add(Flatten())\n",
    "model.add(Dense(90, activation='relu'))\n",
    "model.add(Dense(10, activation='sigmoid'))"
   ]
  },
  {
   "cell_type": "code",
   "execution_count": 7,
   "metadata": {},
   "outputs": [
    {
     "name": "stderr",
     "output_type": "stream",
     "text": [
      "W0529 20:54:16.293979 14348 deprecation.py:323] From C:\\Users\\AKSHAT\\Anaconda3\\lib\\site-packages\\tensorflow\\python\\ops\\nn_impl.py:180: add_dispatch_support.<locals>.wrapper (from tensorflow.python.ops.array_ops) is deprecated and will be removed in a future version.\n",
      "Instructions for updating:\n",
      "Use tf.where in 2.0, which has the same broadcast rule as np.where\n"
     ]
    }
   ],
   "source": [
    "model.compile(optimizer='adam', loss='binary_crossentropy', metrics=['accuracy'])"
   ]
  },
  {
   "cell_type": "code",
   "execution_count": 8,
   "metadata": {
    "scrolled": true
   },
   "outputs": [
    {
     "name": "stderr",
     "output_type": "stream",
     "text": [
      "W0529 20:54:20.357050 14348 deprecation_wrapper.py:119] From C:\\Users\\AKSHAT\\Anaconda3\\lib\\site-packages\\keras\\backend\\tensorflow_backend.py:422: The name tf.global_variables is deprecated. Please use tf.compat.v1.global_variables instead.\n",
      "\n"
     ]
    },
    {
     "name": "stdout",
     "output_type": "stream",
     "text": [
      "Train on 48000 samples, validate on 12000 samples\n",
      "Epoch 1/10\n",
      "48000/48000 [==============================] - 52s 1ms/step - loss: 0.0563 - accuracy: 0.9807 - val_loss: 0.0256 - val_accuracy: 0.9918\n",
      "Epoch 2/10\n",
      "48000/48000 [==============================] - 45s 941us/step - loss: 0.0247 - accuracy: 0.9918 - val_loss: 0.0223 - val_accuracy: 0.9930\n",
      "Epoch 3/10\n",
      "48000/48000 [==============================] - 44s 910us/step - loss: 0.0204 - accuracy: 0.9932 - val_loss: 0.0176 - val_accuracy: 0.9945\n",
      "Epoch 4/10\n",
      "48000/48000 [==============================] - 40s 843us/step - loss: 0.0185 - accuracy: 0.9938 - val_loss: 0.0184 - val_accuracy: 0.9946\n",
      "Epoch 5/10\n",
      "48000/48000 [==============================] - 41s 861us/step - loss: 0.0170 - accuracy: 0.9944 - val_loss: 0.0208 - val_accuracy: 0.9934\n",
      "Epoch 6/10\n",
      "48000/48000 [==============================] - 45s 938us/step - loss: 0.0161 - accuracy: 0.9947 - val_loss: 0.0194 - val_accuracy: 0.9936\n",
      "Epoch 7/10\n",
      "48000/48000 [==============================] - 59s 1ms/step - loss: 0.0149 - accuracy: 0.9952 - val_loss: 0.0186 - val_accuracy: 0.9945\n",
      "Epoch 8/10\n",
      "48000/48000 [==============================] - 46s 963us/step - loss: 0.0142 - accuracy: 0.9953 - val_loss: 0.0172 - val_accuracy: 0.9948\n",
      "Epoch 9/10\n",
      "48000/48000 [==============================] - 40s 842us/step - loss: 0.0138 - accuracy: 0.9954 - val_loss: 0.0168 - val_accuracy: 0.9950\n",
      "Epoch 10/10\n",
      "48000/48000 [==============================] - 43s 888us/step - loss: 0.0132 - accuracy: 0.9956 - val_loss: 0.0184 - val_accuracy: 0.9949\n"
     ]
    },
    {
     "data": {
      "text/plain": [
       "<keras.callbacks.callbacks.History at 0x1663a7b84a8>"
      ]
     },
     "execution_count": 8,
     "metadata": {},
     "output_type": "execute_result"
    }
   ],
   "source": [
    "model.fit(x_train, y_train, batch_size=5, epochs=10, validation_split=0.2)"
   ]
  },
  {
   "cell_type": "code",
   "execution_count": 9,
   "metadata": {},
   "outputs": [],
   "source": [
    "predictions = model.predict(x_test)"
   ]
  },
  {
   "cell_type": "code",
   "execution_count": 10,
   "metadata": {},
   "outputs": [],
   "source": [
    "b = np.zeros_like(predictions)\n",
    "b[np.arange(len(predictions)), predictions.argmax(1)] = 1"
   ]
  },
  {
   "cell_type": "code",
   "execution_count": 11,
   "metadata": {},
   "outputs": [],
   "source": [
    "b = pd.DataFrame(b)\n",
    "s2 = b.idxmax(axis=1)"
   ]
  },
  {
   "cell_type": "code",
   "execution_count": 12,
   "metadata": {},
   "outputs": [
    {
     "data": {
      "text/plain": [
       "0.9748"
      ]
     },
     "execution_count": 12,
     "metadata": {},
     "output_type": "execute_result"
    }
   ],
   "source": [
    "metrics.accuracy_score(s2,y_test)"
   ]
  },
  {
   "cell_type": "code",
   "execution_count": 13,
   "metadata": {},
   "outputs": [
    {
     "data": {
      "text/plain": [
       "array([[ 965,    0,    1,    0,    1,    4,   23,    1,    2,    1],\n",
       "       [   1, 1127,    2,    0,    0,    0,    1,    4,    1,    2],\n",
       "       [   1,    1, 1003,    4,    2,    0,    1,    3,    4,    0],\n",
       "       [   0,    2,    4,  994,    0,   24,    0,    3,   10,    3],\n",
       "       [   2,    0,    3,    0,  969,    1,   15,    2,    4,    7],\n",
       "       [   4,    1,    0,    5,    0,  850,    9,    2,    2,    5],\n",
       "       [   0,    1,    3,    0,    1,    1,  908,    0,    2,    0],\n",
       "       [   3,    2,   12,    3,    0,    1,    0, 1005,    2,    7],\n",
       "       [   2,    1,    4,    0,    1,    4,    1,    2,  945,    2],\n",
       "       [   2,    0,    0,    4,    8,    7,    0,    6,    2,  982]],\n",
       "      dtype=int64)"
      ]
     },
     "execution_count": 13,
     "metadata": {},
     "output_type": "execute_result"
    }
   ],
   "source": [
    "metrics.confusion_matrix(s2,y_test)"
   ]
  },
  {
   "cell_type": "code",
   "execution_count": 20,
   "metadata": {},
   "outputs": [
    {
     "data": {
      "text/plain": [
       "(15, 15, 1, 8)"
      ]
     },
     "execution_count": 20,
     "metadata": {},
     "output_type": "execute_result"
    }
   ],
   "source": [
    "model.layers[0].get_weights()[0].shape"
   ]
  },
  {
   "cell_type": "code",
   "execution_count": 36,
   "metadata": {},
   "outputs": [],
   "source": [
    "model.save('number_recognition.model')"
   ]
  }
 ],
 "metadata": {
  "kernelspec": {
   "display_name": "Python 3",
   "language": "python",
   "name": "python3"
  },
  "language_info": {
   "codemirror_mode": {
    "name": "ipython",
    "version": 3
   },
   "file_extension": ".py",
   "mimetype": "text/x-python",
   "name": "python",
   "nbconvert_exporter": "python",
   "pygments_lexer": "ipython3",
   "version": "3.7.3"
  }
 },
 "nbformat": 4,
 "nbformat_minor": 2
}
